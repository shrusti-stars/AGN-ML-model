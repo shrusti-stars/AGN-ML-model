{
 "cells": [
  {
   "cell_type": "code",
   "execution_count": 23,
   "metadata": {},
   "outputs": [],
   "source": [
    "import pandas as pd\n",
    "import numpy as np\n",
    "from sklearn.metrics import confusion_matrix, precision_score, recall_score, f1_score, accuracy_score\n",
    "import statsmodels.stats.outliers_influence as inf\n",
    "from statsmodels.multivariate.manova import MANOVA\n",
    "import statsmodels.api as sm\n",
    "import scipy.stats as stats\n",
    "from tensorflow.keras import layers\n",
    "from tensorflow.keras.callbacks import EarlyStopping\n",
    "from imblearn.over_sampling import SMOTE\n",
    "import seaborn as sns"
   ]
  },
  {
   "cell_type": "code",
   "execution_count": 24,
   "metadata": {},
   "outputs": [],
   "source": [
    "import matplotlib.pyplot as plt\n",
    "import math\n",
    "import os\n",
    "from astropy.io import fits, ascii\n",
    "from astropy.table import Table, hstack, join\n",
    "from astropy.stats import binom_conf_interval\n"
   ]
  },
  {
   "cell_type": "markdown",
   "metadata": {},
   "source": [
    "In gal_fnal_dr7_v5_2.fits.gz, there is a column named CMODEL which is actually a length‐5 array of SDSS “CModel” magnitudes in the order \n",
    "[u,g,r,i,z]"
   ]
  },
  {
   "cell_type": "code",
   "execution_count": 25,
   "metadata": {},
   "outputs": [
    {
     "name": "stderr",
     "output_type": "stream",
     "text": [
      "WARNING: Unexpected extra padding at the end of the file.  This padding may not be preserved when saving changes. [astropy.io.fits.header]\n"
     ]
    }
   ],
   "source": [
    "t0 = Table.read('data/gal_fnal_dr7_v5_2.fit.gz')"
   ]
  },
  {
   "cell_type": "code",
   "execution_count": 26,
   "metadata": {},
   "outputs": [],
   "source": [
    "plate =t0[\"PLATE\"]\n",
    "mjd   = t0[\"MJD\"]\n",
    "fiber = t0[\"FIBERID\"]\n",
    "cmodel= t0[\"CMODEL\"]\n",
    "u_mag = cmodel[:, 0]\n",
    "g_mag = cmodel[:, 1]\n",
    "r_mag = cmodel[:, 2]\n",
    "i_mag = cmodel[:, 3]\n",
    "z_mag = cmodel[:, 4]\n",
    "phot = Table([plate,mjd, fiber, u_mag, g_mag, r_mag, i_mag, z_mag], \n",
    "             names=(\"PLATEID\",\"MJD\", \"FIBERID\", \"u_mag\", \"g_mag\", \"r_mag\", \"i_mag\", \"z_mag\"))\n"
   ]
  },
  {
   "cell_type": "code",
   "execution_count": 27,
   "metadata": {},
   "outputs": [],
   "source": [
    "tr = ascii.read('Table1.dat')\n",
    "column_mapping = {'col1': 'PLATEID', 'col2': 'MJD', 'col3': 'FIBERID','col4' :'ra' ,'col5': 'dec','col6' : 'redshift','col7' : 'SNVSS','col8':'RCl','col9':'SFIRST' ,'col11':'RLAGN','col12': 'main-sample','col13':'LERG','col14':'HERG'}\n",
    "for old_name, new_name in column_mapping.items():\n",
    "    tr.rename_column(old_name, new_name)\n",
    "mask = tr['RLAGN'] == 1\n",
    "bh201 = tr[mask]\n",
    "bh2012 = bh201[[\"PLATEID\",\"MJD\", \"FIBERID\",'LERG','HERG']] # table lenght = 15300 all are RLAGN \n",
    "bh_clean = bh2012[(bh2012['LERG'] == 1) | (bh2012['HERG'] == 1)] # LERG = 9863, herg = 481,  9863 + 481 = 10344 are all agn with defined labels"
   ]
  },
  {
   "cell_type": "code",
   "execution_count": 28,
   "metadata": {},
   "outputs": [],
   "source": [
    "t2 = Table.read('data/gal_info_dr7_v5_2.fit.gz')\n",
    "info_df = t2[['PLATEID','MJD','FIBERID','Z']]"
   ]
  },
  {
   "cell_type": "code",
   "execution_count": 29,
   "metadata": {},
   "outputs": [],
   "source": [
    "t3 = Table.read('data/totlgm_dr7_v5_2.fit.gz')\n",
    "mass_df = t3[['AVG']]"
   ]
  },
  {
   "cell_type": "code",
   "execution_count": 30,
   "metadata": {},
   "outputs": [],
   "source": [
    "t4 = Table.read('data/gal_totsfr_dr7_v5_2.fits.gz')\n",
    "sfr_df = t4[['AVG']]"
   ]
  },
  {
   "cell_type": "code",
   "execution_count": 31,
   "metadata": {},
   "outputs": [],
   "source": [
    "info_mass = hstack([info_df, mass_df])\n",
    "column_map = {'AVG': 'stellar_mass'}\n",
    "for old_name, new_name in column_map.items():\n",
    "    info_mass.rename_column(old_name, new_name)\n",
    "info_mass_sfr = hstack([info_mass, sfr_df])\n",
    "column_map1 = {'AVG': 'sfr'}\n",
    "for old_name, new_name in column_map1.items():\n",
    "    info_mass_sfr.rename_column(old_name, new_name) #Table length=927552\n",
    "mpa_jhu = join(info_mass_sfr, phot, keys=['PLATEID','MJD','FIBERID'], join_type='inner') #Table length=927552"
   ]
  },
  {
   "cell_type": "code",
   "execution_count": 32,
   "metadata": {},
   "outputs": [],
   "source": [
    "df = join(mpa_jhu, bh_clean, keys=['PLATEID','MJD','FIBERID'], join_type='inner') # tab;e ;enght = 10344 (not 15300 )same as bestheck RLAGN sample with defined labels"
   ]
  },
  {
   "cell_type": "markdown",
   "metadata": {},
   "source": [
    " i have Table length=15300  \n",
    "PLATEID\tMJD\tFIBERID\tZ\tstellar_mass\tsfr\tu_mag\tg_mag\tr_mag\ti_mag\tz_mag\tLERG\tHERG"
   ]
  },
  {
   "cell_type": "markdown",
   "metadata": {},
   "source": [
    "### Computing “u − r” "
   ]
  },
  {
   "cell_type": "code",
   "execution_count": 33,
   "metadata": {},
   "outputs": [],
   "source": [
    "df[\"u-r\"] = df[\"u_mag\"] - df[\"r_mag\"]\n",
    "df['log_stellar_mass'] = df['stellar_mass']  # Already in log\n",
    "df['log_stellar_mass'] = np.where(df['log_stellar_mass'] <= 0, np.nan, df['log_stellar_mass'])  # Mask bad values\n",
    "df['log_sfr'] = df['sfr']\n",
    "df['log_sfr'] = np.where(df['log_sfr'] <= -90, np.nan, df['log_sfr'])\n",
    "df['label'] = np.where(df['LERG'] == 1, 0, 1) # If L == 1 → label = 0 (LERG) Else → label = 1 (HERG)\n",
    "def assign_label(row):\n",
    "    if row['LERG'] == 1:\n",
    "        return 0\n",
    "    elif row['HERG'] == 1:\n",
    "        return 1\n",
    "    else:\n",
    "        return 2  # Ambiguous"
   ]
  },
  {
   "cell_type": "code",
   "execution_count": 34,
   "metadata": {},
   "outputs": [],
   "source": [
    "df = df.to_pandas()"
   ]
  },
  {
   "cell_type": "markdown",
   "metadata": {},
   "source": [
    "# Which host features drive HERG vs. LERG triggering clearly?\n",
    "\n",
    "i.e., we start with random forest classifier using subset of best and heckman(2012) that is strictly RLAGN and is also strictly either LERG or HERG. by doing so we have made a simplistic binary classification model. \n",
    "\n",
    "I chose features based on prior studies (see Best & Heckman 2012), these host properties are expected to distinguish HERG and LERG hosts."
   ]
  },
  {
   "cell_type": "code",
   "execution_count": 35,
   "metadata": {},
   "outputs": [],
   "source": [
    "from sklearn.model_selection import train_test_split\n",
    "from sklearn.ensemble import RandomForestClassifier\n",
    "from sklearn.metrics import classification_report, confusion_matrix, roc_auc_score\n",
    "from sklearn.model_selection import GridSearchCV"
   ]
  },
  {
   "cell_type": "markdown",
   "metadata": {},
   "source": [
    "### how we will build our model:\n",
    "\n",
    "now we simply create two NumPy arrays:\n",
    "\n",
    "X — your \"features\" (matrix of shape [n_samples, n_features])  \n",
    "y — your target label (vector of 0s and 1s; 0 = LERG, 1 = HERG)\n",
    "\n",
    "Then we do a Train/Validation/Test split using Stratified splitting in which the class ratio is preserved in each subset.\n",
    "\n",
    "Next ...\n",
    "we build the model : Random Forest Classifier [Builds an ensemble of decision trees (good for tabular data, robust to feature correlations)]\n",
    "\n",
    "Validation and metrics: validationg the model and calculate metrics (accuracy, precision, recall, f1, ROC-AUC, etc.)."
   ]
  },
  {
   "cell_type": "code",
   "execution_count": 36,
   "metadata": {},
   "outputs": [
    {
     "name": "stdout",
     "output_type": "stream",
     "text": [
      "Validation Classification Report:\n",
      "               precision    recall  f1-score   support\n",
      "\n",
      "           0       0.96      0.98      0.97      1480\n",
      "           1       0.16      0.07      0.10        72\n",
      "\n",
      "    accuracy                           0.94      1552\n",
      "   macro avg       0.56      0.53      0.53      1552\n",
      "weighted avg       0.92      0.94      0.93      1552\n",
      "\n",
      "Validation ROC-AUC: 0.7126783033033033\n"
     ]
    }
   ],
   "source": [
    "from sklearn.impute import SimpleImputer # Handles missing values (NaN) by filling with the median.\n",
    "from sklearn.pipeline import Pipeline  # The Pipeline runs imputation and classification together—good for reproducibility and code clarity\n",
    "\n",
    "feature_cols = [\"log_stellar_mass\", \"log_sfr\", \"u-r\"]  \n",
    "X = df[feature_cols].values\n",
    "y = df[\"label\"].values\n",
    "\n",
    "# Train/val/test split (stratified):\n",
    "X_train, X_temp, y_train, y_temp = train_test_split(\n",
    "    X, y, test_size=0.30, random_state=42, stratify=y\n",
    ")\n",
    "X_val, X_test, y_val, y_test = train_test_split(\n",
    "    X_temp, y_temp, test_size=0.50, random_state=42, stratify=y_temp\n",
    ")\n",
    "\n",
    "# Define a pipeline with imputation and Random Forest\n",
    "# by imputing we are filling missing data with meaningful statistical estimates (usually median or mean)\n",
    "model_pipeline = Pipeline([\n",
    "    ('imputer', SimpleImputer(strategy='median')),  # fills missing values\n",
    "    ('rf', RandomForestClassifier(\n",
    "        n_estimators=100, \n",
    "        random_state=42, \n",
    "        class_weight='balanced'\n",
    "    ))\n",
    "])\n",
    "\n",
    "# Fit the model\n",
    "model_pipeline.fit(X_train, y_train)\n",
    "\n",
    "# Predict and evaluate on validation set\n",
    "y_val_pred = model_pipeline.predict(X_val)\n",
    "y_val_proba = model_pipeline.predict_proba(X_val)[:, 1]\n",
    "\n",
    "print(\"Validation Classification Report:\\n\", classification_report(y_val, y_val_pred))\n",
    "print(\"Validation ROC-AUC:\", roc_auc_score(y_val, y_val_proba))\n"
   ]
  },
  {
   "cell_type": "markdown",
   "metadata": {},
   "source": [
    "| Metric     | LERG (0)           | HERG (1)             |\n",
    "|------------|--------------------|----------------------|\n",
    "| Precision  | 96% (good)         | 16% (very low)       |\n",
    "| Recall     | 98% (excellent)    | 7% (extremely low)   |\n",
    "| F1-score   | 97% (good)         | 10% (very poor)      |\n",
    "|------------|--------------------|----------------------|\n",
    "|ROC-AUC   |  0.712 (poor-fair, should be ≥ 0.75 ideally)| \n",
    "\n",
    "- classifier currently strongly favors the majority class (LERG) and struggles greatly with the minority class (HERG)\n",
    "- the validation metrics indicate a significant class imbalance issue.\n",
    "- because HERGs are heavily outnumbered by LERGs in the dataset, causing the classifier to bias predictions strongly toward the majority class."
   ]
  },
  {
   "cell_type": "markdown",
   "metadata": {},
   "source": [
    "# To address this imbalance and improve model performance\n",
    "\n",
    "1. we can try to explicitly aadjust the class weight or (Already gives the best overall result)\n",
    "\n",
    "I will include SMOTE and threshold-tuning results in an appendix or supplementary analysis.  \n",
    "\n",
    "2. Try the SMOTE oversampling  \n",
    "3. Lastly, we could try adjusting thresholds to fine-tune predictions"
   ]
  },
  {
   "cell_type": "code",
   "execution_count": 37,
   "metadata": {},
   "outputs": [
    {
     "name": "stdout",
     "output_type": "stream",
     "text": [
      "Class weights: {0: 0.5244096769520499, 1: 10.741839762611276}\n",
      "              precision    recall  f1-score   support\n",
      "\n",
      "           0       0.97      0.86      0.91      1480\n",
      "           1       0.12      0.39      0.19        72\n",
      "\n",
      "    accuracy                           0.84      1552\n",
      "   macro avg       0.54      0.63      0.55      1552\n",
      "weighted avg       0.93      0.84      0.88      1552\n",
      "\n",
      "Validation ROC-AUC: 0.7776933183183183\n"
     ]
    }
   ],
   "source": [
    "from sklearn.utils.class_weight import compute_class_weight\n",
    "\n",
    "# Compute custom class weights explicitly:\n",
    "class_weights = compute_class_weight('balanced', classes=[0, 1], y=y_train)\n",
    "class_weight_dict = {0: class_weights[0], 1: class_weights[1]}\n",
    "print(\"Class weights:\", class_weight_dict)\n",
    "\n",
    "# Re-run Random Forest explicitly:\n",
    "model_pipeline = Pipeline([\n",
    "    ('imputer', SimpleImputer(strategy='median')),\n",
    "    ('rf', RandomForestClassifier(\n",
    "        n_estimators=200, \n",
    "        random_state=42, \n",
    "        class_weight=class_weight_dict,\n",
    "        max_depth=10\n",
    "    ))\n",
    "])\n",
    "\n",
    "model_pipeline.fit(X_train, y_train)\n",
    "\n",
    "# Check performance again:\n",
    "y_val_pred = model_pipeline.predict(X_val)\n",
    "y_val_proba = model_pipeline.predict_proba(X_val)[:, 1]\n",
    "\n",
    "print(classification_report(y_val, y_val_pred))\n",
    "print(\"Validation ROC-AUC:\", roc_auc_score(y_val, y_val_proba))\n"
   ]
  },
  {
   "cell_type": "code",
   "execution_count": 38,
   "metadata": {},
   "outputs": [
    {
     "name": "stdout",
     "output_type": "stream",
     "text": [
      "After SMOTE:\n",
      "              precision    recall  f1-score   support\n",
      "\n",
      "           0       0.96      0.83      0.89      1480\n",
      "           1       0.10      0.38      0.15        72\n",
      "\n",
      "    accuracy                           0.81      1552\n",
      "   macro avg       0.53      0.60      0.52      1552\n",
      "weighted avg       0.92      0.81      0.86      1552\n",
      "\n",
      "Validation ROC-AUC: 0.6873592342342343\n"
     ]
    }
   ],
   "source": [
    "from imblearn.over_sampling import SMOTE\n",
    "\n",
    "smote = SMOTE(random_state=42)\n",
    "\n",
    "# First impute missing values:\n",
    "imputer = SimpleImputer(strategy='median')\n",
    "X_train_imp = imputer.fit_transform(X_train)\n",
    "\n",
    "# Oversample with SMOTE:\n",
    "X_train_smote, y_train_smote = smote.fit_resample(X_train_imp, y_train)\n",
    "\n",
    "# Fit Random Forest to oversampled data:\n",
    "rf_smote = RandomForestClassifier(n_estimators=200, random_state=42)\n",
    "rf_smote.fit(X_train_smote, y_train_smote)\n",
    "\n",
    "# Evaluate:\n",
    "X_val_imp = imputer.transform(X_val)\n",
    "y_val_pred_smote = rf_smote.predict(X_val_imp)\n",
    "y_val_proba_smote = rf_smote.predict_proba(X_val_imp)[:, 1]\n",
    "\n",
    "print(\"After SMOTE:\")\n",
    "print(classification_report(y_val, y_val_pred_smote))\n",
    "print(\"Validation ROC-AUC:\", roc_auc_score(y_val, y_val_proba_smote))\n"
   ]
  },
  {
   "cell_type": "code",
   "execution_count": 39,
   "metadata": {},
   "outputs": [
    {
     "data": {
      "image/png": "[encoded data removed]",
      "text/plain": [
       "<Figure size 800x600 with 1 Axes>"
      ]
     },
     "metadata": {},
     "output_type": "display_data"
    },
    {
     "name": "stdout",
     "output_type": "stream",
     "text": [
      "Results at threshold = 0.2:\n",
      "              precision    recall  f1-score   support\n",
      "\n",
      "           0       0.99      0.69      0.81      1480\n",
      "           1       0.11      0.82      0.20        72\n",
      "\n",
      "    accuracy                           0.69      1552\n",
      "   macro avg       0.55      0.75      0.50      1552\n",
      "weighted avg       0.95      0.69      0.78      1552\n",
      "\n",
      "ROC-AUC: 0.7776933183183183\n"
     ]
    }
   ],
   "source": [
    "from sklearn.metrics import precision_recall_curve\n",
    "\n",
    "precision, recall, thresholds = precision_recall_curve(y_val, y_val_proba)\n",
    "\n",
    "# Plot precision-recall curve to pick optimal threshold:\n",
    "import matplotlib.pyplot as plt\n",
    "\n",
    "plt.figure(figsize=(8,6))\n",
    "plt.plot(thresholds, precision[:-1], label='Precision')\n",
    "plt.plot(thresholds, recall[:-1], label='Recall')\n",
    "plt.xlabel('Threshold')\n",
    "plt.ylabel('Precision/Recall')\n",
    "plt.legend()\n",
    "plt.grid()\n",
    "plt.show()\n",
    "\n",
    "# Try a lower threshold manually:\n",
    "threshold = 0.2  # Example: pick threshold giving good balance\n",
    "y_val_pred_adj = (y_val_proba >= threshold).astype(int)\n",
    "\n",
    "print(f\"Results at threshold = {threshold}:\")\n",
    "print(classification_report(y_val, y_val_pred_adj))\n",
    "print(\"ROC-AUC:\", roc_auc_score(y_val, y_val_proba))\n"
   ]
  },
  {
   "cell_type": "markdown",
   "metadata": {},
   "source": [
    "| Approach            | HERG Precision | HERG Recall | HERG F1 | ROC-AUC |\n",
    "| ------------------- | -------------- | ----------- | ------- | ------- |\n",
    "| **Class weight**    | 0.12           | 0.39        | 0.19    | 0.77    |\n",
    "| **SMOTE**           | 0.10           | 0.38        | 0.15    | 0.68    |\n",
    "| **Threshold (0.2)** | 0.11           | 0.82        | 0.20    | 0.77    |\n"
   ]
  },
  {
   "cell_type": "markdown",
   "metadata": {},
   "source": [
    "Rf learned the following order of feauture imprtance: \n",
    "\n",
    "Stellar mass (sfr) is the most important predictor > followed by star formation rate (log_sfr) > then color (u-r)"
   ]
  },
  {
   "cell_type": "code",
   "execution_count": 40,
   "metadata": {},
   "outputs": [
    {
     "data": {
      "image/png": "[encoded data removed]",
      "text/plain": [
       "<Figure size 600x400 with 1 Axes>"
      ]
     },
     "metadata": {},
     "output_type": "display_data"
    }
   ],
   "source": [
    "import matplotlib.pyplot as plt\n",
    "\n",
    "rf_model = model_pipeline.named_steps['rf']  # Get RF from pipeline\n",
    "importances = rf_model.feature_importances_\n",
    "\n",
    "plt.figure(figsize=(6,4))\n",
    "plt.bar(feature_cols, importances, color='skyblue')\n",
    "plt.title(\"Random Forest Feature Importances\")\n",
    "plt.ylabel(\"Importance\")\n",
    "plt.xlabel(\"Feature\")\n",
    "plt.tight_layout()\n",
    "plt.show()\n"
   ]
  },
  {
   "cell_type": "markdown",
   "metadata": {},
   "source": [
    "# confusion Matrix"
   ]
  },
  {
   "cell_type": "code",
   "execution_count": 41,
   "metadata": {},
   "outputs": [
    {
     "data": {
      "image/png": "[encoded data removed]",
      "text/plain": [
       "<Figure size 640x480 with 2 Axes>"
      ]
     },
     "metadata": {},
     "output_type": "display_data"
    }
   ],
   "source": [
    "from sklearn.metrics import confusion_matrix, ConfusionMatrixDisplay\n",
    "\n",
    "cm = confusion_matrix(y_val, y_val_pred)  \n",
    "disp = ConfusionMatrixDisplay(confusion_matrix=cm, display_labels=[\"LERG\", \"HERG\"])\n",
    "disp.plot(cmap=\"Blues\")\n",
    "plt.title(\"Validation Confusion Matrix\")\n",
    "plt.show()\n"
   ]
  },
  {
   "cell_type": "markdown",
   "metadata": {},
   "source": [
    "Interpretation:\n",
    "\n",
    "1279 true LERGs correctly classified (true negatives)\n",
    "\n",
    "201 true LERGs misclassified as HERG (false positives)\n",
    "\n",
    "44 true HERGs misclassified as LERG (false negatives)\n",
    "\n",
    "28 true HERGs correctly classified (true positives)"
   ]
  }
 ],
 "metadata": {
  "kernelspec": {
   "display_name": "Python 3.8.9 64-bit",
   "language": "python",
   "name": "python3"
  },
  "language_info": {
   "codemirror_mode": {
    "name": "ipython",
    "version": 3
   },
   "file_extension": ".py",
   "mimetype": "text/x-python",
   "name": "python",
   "nbconvert_exporter": "python",
   "pygments_lexer": "ipython3",
   "version": "3.8.9"
  },
  "orig_nbformat": 4,
  "vscode": {
   "interpreter": {
    "hash": "31f2aee4e71d21fbe5cf8b01ff0e069b9275f58929596ceb00d14d90e3e16cd6"
   }
  }
 },
 "nbformat": 4,
 "nbformat_minor": 2
}
